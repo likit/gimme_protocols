{
 "metadata": {
  "name": ""
 },
 "nbformat": 3,
 "nbformat_minor": 0,
 "worksheets": [
  {
   "cells": [
    {
     "cell_type": "markdown",
     "metadata": {},
     "source": [
      "#RNA-Seq detects many novel splice variants :: Analysis"
     ]
    },
    {
     "cell_type": "markdown",
     "metadata": {},
     "source": [
      "##Setup working environment"
     ]
    },
    {
     "cell_type": "markdown",
     "metadata": {},
     "source": [
      "Before running the pipeline please make sure all required software packages are installed.\n",
      "\n",
      "To install required packages, do the following\n",
      "\n",
      "###On Amazon EC2\n",
      "+ Launch EC2 instance with **beacon-2012.09.03 (ami-c17ec8a8)**. Choose **m1.large** for instance type.\n",
      "+ Create volume with (SNAPSHOT) and mount the volume to /mnt/data/\n",
      "+ Login as a root\n",
      "+ Run **make install** in **/mnt/data/source** directory\n",
      "+ Open Ipython notebook by entering https://youramazonpublicdns in your browser (make sure HTTPS rule is included in your security group)\n",
      "+ Login to the notebook with a password \"beacon\"\n",
      "\n",
      "###All required packages\n",
      "\n",
      "+ Blat\n",
      "+ BLAST+ 2.2.25\n",
      "+ Bowtie2*\n",
      "+ Tophat2*\n",
      "+ Cufflinks2*\n",
      "+ Seqclean\n",
      "+ ESTscan 3.0.3*\n",
      "+ Gimme package 0.97 (+ Networkx, Pysam, Pygr)\n",
      "+ Python 2.7\n",
      "+ Biopython\n",
      "+ Velvet 1.2.03*\n",
      "+ Oases 0.2.06*\n",
      "+ CDHIT 4.5.4*\n",
      "+ Condetri 2.1*\n",
      "+ Samtools 0.1.18\n",
      "+ khmer\n",
      "+ screed\n",
      "\n",
      "\n",
      "(*) _These packages are not installed by make command and not required to reproduce results in the Ipython notebook._"
     ]
    },
    {
     "cell_type": "markdown",
     "metadata": {},
     "source": [
      "###Data preprocessing\n",
      "\n",
      "_Note: Preprocessing may take a long time. You can skip this step and use pre-preprocessed data to reproduce results in this notebook._\n",
      "\n",
      "Run **make preprocess** to preprocess transcripts and other required data to be used in this notebook.\n",
      "\n",
      "This step will take a while, so we recommend running it in Shell.\n",
      "\n",
      "In addition, each step can be run separately with its own make command. For example, running **make clean-transcript** will only run Seqclean to clean transcripts.\n",
      "\n",
      "Preprocessing includes the following steps:\n",
      "\n",
      "+ **clean-transcripts :** clean transcripts with seqclean\n",
      "+ **remove-redundant-transcripts :** remove redundant transcripts with CD-HIT\n",
      "+ **find-unique-transcripts :** find unique transcripts between global and local assembly\n",
      "\n",
      "These steps are not included in preprocessing. We recommend using pre-preprocessed data:\n",
      "\n",
      "+ **run-blastx :** run BLASTX against mouse proteins\n",
      "+ **construct-gene-models :** run Gimme to construct gene models"
     ]
    },
    {
     "cell_type": "markdown",
     "metadata": {},
     "source": [
      "###Working directory and others"
     ]
    },
    {
     "cell_type": "code",
     "collapsed": false,
     "input": [
      "figure(figsize(6,6))"
     ],
     "language": "python",
     "metadata": {},
     "outputs": [
      {
       "metadata": {},
       "output_type": "pyout",
       "prompt_number": 1,
       "text": [
        "<matplotlib.figure.Figure at 0x105aa1e90>"
       ]
      },
      {
       "metadata": {},
       "output_type": "display_data",
       "text": [
        "<matplotlib.figure.Figure at 0x105aa1e90>"
       ]
      }
     ],
     "prompt_number": 1
    },
    {
     "cell_type": "code",
     "collapsed": false,
     "input": [
      "%cd ~/projects/gimme\n",
      "%pwd"
     ],
     "language": "python",
     "metadata": {},
     "outputs": [
      {
       "output_type": "stream",
       "stream": "stdout",
       "text": [
        "/Users/Likit/projects/gimme\n"
       ]
      },
      {
       "metadata": {},
       "output_type": "pyout",
       "prompt_number": 2,
       "text": [
        "u'/Users/Likit/projects/gimme'"
       ]
      }
     ],
     "prompt_number": 2
    },
    {
     "cell_type": "markdown",
     "metadata": {},
     "source": [
      "##Different Isoforms from different hash length\n",
      "\n",
      "The analysis compares splice junctions found in transcripts from k=21 and k=31."
     ]
    },
    {
     "cell_type": "code",
     "collapsed": false,
     "input": [
      "# this should go to makefile\n",
      "#%run /mnt/data/source/gimme/src/utils/compare_junction.py --all -p global_k21.best.psl\n",
      "#%run /mnt/data/source/gimme/src/utils/compare_junction.py --all -p global_k31.best.psl"
     ],
     "language": "python",
     "metadata": {},
     "outputs": [],
     "prompt_number": 3
    },
    {
     "cell_type": "code",
     "collapsed": false,
     "input": [
      "k21_junctions = !cat global_k21.best.psl_all_sp.txt\n",
      "k31_junctions = !cat global_k31.best.psl_all_sp.txt\n",
      "k21_junctions = set(k21_junctions)\n",
      "k31_junctions = set(k31_junctions)\n",
      "print \"Total junctions from k21 = %d, k31 = %d\" % (len(k21_junctions), len(k31_junctions))\n",
      "diff_junctions = list(k21_junctions.difference(k31_junctions))\n",
      "print \"Different junctions between k21 and k31 = %d junctions\" % len(diff_junctions)"
     ],
     "language": "python",
     "metadata": {},
     "outputs": [
      {
       "output_type": "stream",
       "stream": "stdout",
       "text": [
        "Total junctions from k21 = 124935, k31 = 53923\n",
        "Different junctions between k21 and k31 = 87971 junctions"
       ]
      },
      {
       "output_type": "stream",
       "stream": "stdout",
       "text": [
        "\n"
       ]
      }
     ],
     "prompt_number": 13
    },
    {
     "cell_type": "markdown",
     "metadata": {},
     "source": [
      "##Unique sequences between Global and Local assembly"
     ]
    },
    {
     "cell_type": "code",
     "collapsed": false,
     "input": [
      "se_6u_local_uniq_seqs = !grep \">\" line6u_local.fa.clean.nr.uniq | sed 's/-/_/' | cut -f 1 -d \"-\" | sort | uniq | wc -l\n",
      "se_6i_local_uniq_seqs = !grep \">\" line6i_local.fa.clean.nr.uniq | sed 's/-/_/' | cut -f 1 -d \"-\" | sort | uniq | wc -l\n",
      "se_7u_local_uniq_seqs = !grep \">\" line7u_local.fa.clean.nr.uniq | sed 's/-/_/' | cut -f 1 -d \"-\" | sort | uniq | wc -l\n",
      "se_7i_local_uniq_seqs = !grep \">\" line7i_local.fa.clean.nr.uniq | sed 's/-/_/' | cut -f 1 -d \"-\" | sort | uniq | wc -l"
     ],
     "language": "python",
     "metadata": {},
     "outputs": [],
     "prompt_number": 15
    },
    {
     "cell_type": "code",
     "collapsed": false,
     "input": [
      "se_6u_global_uniq_seqs = !grep \">\" line6u_global.fa.clean.nr.uniq | sed 's/-/_/' | cut -f 1 -d \"-\" | sort | uniq | wc -l\n",
      "se_6i_global_uniq_seqs = !grep \">\" line6i_global.fa.clean.nr.uniq | sed 's/-/_/' | cut -f 1 -d \"-\" | sort | uniq | wc -l\n",
      "se_7u_global_uniq_seqs = !grep \">\" line7u_global.fa.clean.nr.uniq | sed 's/-/_/' | cut -f 1 -d \"-\" | sort | uniq | wc -l\n",
      "se_7i_global_uniq_seqs = !grep \">\" line7i_global.fa.clean.nr.uniq | sed 's/-/_/' | cut -f 1 -d \"-\" | sort | uniq | wc -l"
     ],
     "language": "python",
     "metadata": {},
     "outputs": [],
     "prompt_number": 13
    },
    {
     "cell_type": "code",
     "collapsed": false,
     "input": [
      "from Bio import SeqIO"
     ],
     "language": "python",
     "metadata": {},
     "outputs": [],
     "prompt_number": 6
    },
    {
     "cell_type": "code",
     "collapsed": false,
     "input": [
      "def unique_seq_report(filename, num_uniq_seq, assembly_type, sample):\n",
      "    total_length = 0\n",
      "    total_uniq_length = 0\n",
      "    total_seq = 0\n",
      "    for record in SeqIO.parse(filename, 'fasta'):\n",
      "        total_length += len(record)\n",
      "        total_seq += 1\n",
      "    for record in SeqIO.parse(filename + '.uniq', 'fasta'):\n",
      "        total_uniq_length += len(record)\n",
      "    print 'Total sequences from %s %s assembly = %d sequences' % (sample, assembly_type, total_seq)\n",
      "    print 'Sequence from %s %s assembly = %.2f Kbp' % (sample, assembly_type, total_length/1e3)\n",
      "    print 'Total unique sequences from %s %s assembly = %s sequences' % (sample, assembly_type, num_uniq_seq)\n",
      "    print 'Unique sequences from %s %s assembly = %.2f (%.2f%%) Kbp' % (sample, assembly_type, (total_uniq_length/1e3), (float(total_uniq_length)/total_length)*100)"
     ],
     "language": "python",
     "metadata": {},
     "outputs": [],
     "prompt_number": 7
    },
    {
     "cell_type": "code",
     "collapsed": false,
     "input": [
      "unique_seq_report('line6u_global.fa.clean.nr', se_6u_global_uniq_seqs[0], 'global', 'line 6 uninfected')"
     ],
     "language": "python",
     "metadata": {},
     "outputs": [
      {
       "ename": "IOError",
       "evalue": "[Errno 2] No such file or directory: 'line6u_global.fa.clean.nr'",
       "output_type": "pyerr",
       "traceback": [
        "\u001b[0;31m---------------------------------------------------------------------------\u001b[0m\n\u001b[0;31mIOError\u001b[0m                                   Traceback (most recent call last)",
        "\u001b[0;32m<ipython-input-12-8d69ddaa65ab>\u001b[0m in \u001b[0;36m<module>\u001b[0;34m()\u001b[0m\n\u001b[0;32m----> 1\u001b[0;31m \u001b[0munique_seq_report\u001b[0m\u001b[0;34m(\u001b[0m\u001b[0;34m'line6u_global.fa.clean.nr'\u001b[0m\u001b[0;34m,\u001b[0m \u001b[0mse_6u_global_uniq_seqs\u001b[0m\u001b[0;34m[\u001b[0m\u001b[0;36m0\u001b[0m\u001b[0;34m]\u001b[0m\u001b[0;34m,\u001b[0m \u001b[0;34m'global'\u001b[0m\u001b[0;34m,\u001b[0m \u001b[0;34m'line 6 uninfected'\u001b[0m\u001b[0;34m)\u001b[0m\u001b[0;34m\u001b[0m\u001b[0m\n\u001b[0m",
        "\u001b[0;32m<ipython-input-7-289f40cdfb1c>\u001b[0m in \u001b[0;36munique_seq_report\u001b[0;34m(filename, num_uniq_seq, assembly_type, sample)\u001b[0m\n\u001b[1;32m      3\u001b[0m     \u001b[0mtotal_uniq_length\u001b[0m \u001b[0;34m=\u001b[0m \u001b[0;36m0\u001b[0m\u001b[0;34m\u001b[0m\u001b[0m\n\u001b[1;32m      4\u001b[0m     \u001b[0mtotal_seq\u001b[0m \u001b[0;34m=\u001b[0m \u001b[0;36m0\u001b[0m\u001b[0;34m\u001b[0m\u001b[0m\n\u001b[0;32m----> 5\u001b[0;31m     \u001b[0;32mfor\u001b[0m \u001b[0mrecord\u001b[0m \u001b[0;32min\u001b[0m \u001b[0mSeqIO\u001b[0m\u001b[0;34m.\u001b[0m\u001b[0mparse\u001b[0m\u001b[0;34m(\u001b[0m\u001b[0mfilename\u001b[0m\u001b[0;34m,\u001b[0m \u001b[0;34m'fasta'\u001b[0m\u001b[0;34m)\u001b[0m\u001b[0;34m:\u001b[0m\u001b[0;34m\u001b[0m\u001b[0m\n\u001b[0m\u001b[1;32m      6\u001b[0m         \u001b[0mtotal_length\u001b[0m \u001b[0;34m+=\u001b[0m \u001b[0mlen\u001b[0m\u001b[0;34m(\u001b[0m\u001b[0mrecord\u001b[0m\u001b[0;34m)\u001b[0m\u001b[0;34m\u001b[0m\u001b[0m\n\u001b[1;32m      7\u001b[0m         \u001b[0mtotal_seq\u001b[0m \u001b[0;34m+=\u001b[0m \u001b[0;36m1\u001b[0m\u001b[0;34m\u001b[0m\u001b[0m\n",
        "\u001b[0;32m//anaconda/lib/python2.7/site-packages/Bio/SeqIO/__init__.pyc\u001b[0m in \u001b[0;36mparse\u001b[0;34m(handle, format, alphabet)\u001b[0m\n\u001b[1;32m    561\u001b[0m         \u001b[0;32mraise\u001b[0m \u001b[0mValueError\u001b[0m\u001b[0;34m(\u001b[0m\u001b[0;34m\"Invalid alphabet, %s\"\u001b[0m \u001b[0;34m%\u001b[0m \u001b[0mrepr\u001b[0m\u001b[0;34m(\u001b[0m\u001b[0malphabet\u001b[0m\u001b[0;34m)\u001b[0m\u001b[0;34m)\u001b[0m\u001b[0;34m\u001b[0m\u001b[0m\n\u001b[1;32m    562\u001b[0m \u001b[0;34m\u001b[0m\u001b[0m\n\u001b[0;32m--> 563\u001b[0;31m     \u001b[0;32mwith\u001b[0m \u001b[0mas_handle\u001b[0m\u001b[0;34m(\u001b[0m\u001b[0mhandle\u001b[0m\u001b[0;34m,\u001b[0m \u001b[0mmode\u001b[0m\u001b[0;34m)\u001b[0m \u001b[0;32mas\u001b[0m \u001b[0mfp\u001b[0m\u001b[0;34m:\u001b[0m\u001b[0;34m\u001b[0m\u001b[0m\n\u001b[0m\u001b[1;32m    564\u001b[0m         \u001b[0;31m#Map the file format to a sequence iterator:\u001b[0m\u001b[0;34m\u001b[0m\u001b[0;34m\u001b[0m\u001b[0m\n\u001b[1;32m    565\u001b[0m         \u001b[0;32mif\u001b[0m \u001b[0mformat\u001b[0m \u001b[0;32min\u001b[0m \u001b[0m_FormatToIterator\u001b[0m\u001b[0;34m:\u001b[0m\u001b[0;34m\u001b[0m\u001b[0m\n",
        "\u001b[0;32m//anaconda/python.app/Contents/lib/python2.7/contextlib.pyc\u001b[0m in \u001b[0;36m__enter__\u001b[0;34m(self)\u001b[0m\n\u001b[1;32m     15\u001b[0m     \u001b[0;32mdef\u001b[0m \u001b[0m__enter__\u001b[0m\u001b[0;34m(\u001b[0m\u001b[0mself\u001b[0m\u001b[0;34m)\u001b[0m\u001b[0;34m:\u001b[0m\u001b[0;34m\u001b[0m\u001b[0m\n\u001b[1;32m     16\u001b[0m         \u001b[0;32mtry\u001b[0m\u001b[0;34m:\u001b[0m\u001b[0;34m\u001b[0m\u001b[0m\n\u001b[0;32m---> 17\u001b[0;31m             \u001b[0;32mreturn\u001b[0m \u001b[0mself\u001b[0m\u001b[0;34m.\u001b[0m\u001b[0mgen\u001b[0m\u001b[0;34m.\u001b[0m\u001b[0mnext\u001b[0m\u001b[0;34m(\u001b[0m\u001b[0;34m)\u001b[0m\u001b[0;34m\u001b[0m\u001b[0m\n\u001b[0m\u001b[1;32m     18\u001b[0m         \u001b[0;32mexcept\u001b[0m \u001b[0mStopIteration\u001b[0m\u001b[0;34m:\u001b[0m\u001b[0;34m\u001b[0m\u001b[0m\n\u001b[1;32m     19\u001b[0m             \u001b[0;32mraise\u001b[0m \u001b[0mRuntimeError\u001b[0m\u001b[0;34m(\u001b[0m\u001b[0;34m\"generator didn't yield\"\u001b[0m\u001b[0;34m)\u001b[0m\u001b[0;34m\u001b[0m\u001b[0m\n",
        "\u001b[0;32m//anaconda/lib/python2.7/site-packages/Bio/File.pyc\u001b[0m in \u001b[0;36mas_handle\u001b[0;34m(handleish, mode, **kwargs)\u001b[0m\n\u001b[1;32m     78\u001b[0m                 \u001b[0;32myield\u001b[0m \u001b[0mfp\u001b[0m\u001b[0;34m\u001b[0m\u001b[0m\n\u001b[1;32m     79\u001b[0m         \u001b[0;32melse\u001b[0m\u001b[0;34m:\u001b[0m\u001b[0;34m\u001b[0m\u001b[0m\n\u001b[0;32m---> 80\u001b[0;31m             \u001b[0;32mwith\u001b[0m \u001b[0mopen\u001b[0m\u001b[0;34m(\u001b[0m\u001b[0mhandleish\u001b[0m\u001b[0;34m,\u001b[0m \u001b[0mmode\u001b[0m\u001b[0;34m,\u001b[0m \u001b[0;34m**\u001b[0m\u001b[0mkwargs\u001b[0m\u001b[0;34m)\u001b[0m \u001b[0;32mas\u001b[0m \u001b[0mfp\u001b[0m\u001b[0;34m:\u001b[0m\u001b[0;34m\u001b[0m\u001b[0m\n\u001b[0m\u001b[1;32m     81\u001b[0m                 \u001b[0;32myield\u001b[0m \u001b[0mfp\u001b[0m\u001b[0;34m\u001b[0m\u001b[0m\n\u001b[1;32m     82\u001b[0m     \u001b[0;32melse\u001b[0m\u001b[0;34m:\u001b[0m\u001b[0;34m\u001b[0m\u001b[0m\n",
        "\u001b[0;31mIOError\u001b[0m: [Errno 2] No such file or directory: 'line6u_global.fa.clean.nr'"
       ]
      }
     ],
     "prompt_number": 12
    },
    {
     "cell_type": "code",
     "collapsed": false,
     "input": [
      "unique_seq_report('se_6i_global.clean.nr.fa', se_6i_global_uniq_seqs[0], 'global', 'line 6 infected')"
     ],
     "language": "python",
     "metadata": {},
     "outputs": [
      {
       "output_type": "stream",
       "stream": "stdout",
       "text": [
        "Total sequences from line 6 infected global assembly = 104785 sequences\n",
        "Sequence from line 6 infected global assembly = 86622.62 Kbp\n",
        "Total unique sequences from line 6 infected global assembly = 12871 sequences\n",
        "Unique sequences from line 6 infected global assembly = 3207.87 (3.70%) Kbp\n"
       ]
      }
     ],
     "prompt_number": 40
    },
    {
     "cell_type": "code",
     "collapsed": false,
     "input": [
      "unique_seq_report('se_7u_global.clean.nr.fa', se_7u_global_uniq_seqs[0], 'global', 'line 7 uninfected')"
     ],
     "language": "python",
     "metadata": {},
     "outputs": [
      {
       "output_type": "stream",
       "stream": "stdout",
       "text": [
        "Total sequences from line 7 uninfected global assembly = 90125 sequences\n",
        "Sequence from line 7 uninfected global assembly = 76566.72 Kbp\n",
        "Total unique sequences from line 7 uninfected global assembly = 11706 sequences\n",
        "Unique sequences from line 7 uninfected global assembly = 3175.48 (4.15%) Kbp\n"
       ]
      }
     ],
     "prompt_number": 41
    },
    {
     "cell_type": "code",
     "collapsed": false,
     "input": [
      "unique_seq_report('se_7i_global.clean.nr.fa', se_7i_global_uniq_seqs[0], 'global', 'line 7 infected')"
     ],
     "language": "python",
     "metadata": {},
     "outputs": [
      {
       "output_type": "stream",
       "stream": "stdout",
       "text": [
        "Total sequences from line 7 infected global assembly = 92192 sequences\n",
        "Sequence from line 7 infected global assembly = 74957.62 Kbp\n",
        "Total unique sequences from line 7 infected global assembly = 12962 sequences\n",
        "Unique sequences from line 7 infected global assembly = 3213.41 (4.29%) Kbp\n"
       ]
      }
     ],
     "prompt_number": 42
    },
    {
     "cell_type": "code",
     "collapsed": false,
     "input": [
      "unique_seq_report('se_6u_local.clean.nr.fa', se_6u_local_uniq_seqs[0], 'local', 'line 6 uninfected')"
     ],
     "language": "python",
     "metadata": {},
     "outputs": [
      {
       "output_type": "stream",
       "stream": "stdout",
       "text": [
        "Total sequences from line 6 uninfected local assembly = 66732 sequences\n",
        "Sequence from line 6 uninfected local assembly = 43173.57 Kbp\n",
        "Total unique sequences from line 6 uninfected local assembly = 1690 sequences\n",
        "Unique sequences from line 6 uninfected local assembly = 327.00 (0.76%) Kbp\n"
       ]
      }
     ],
     "prompt_number": 52
    },
    {
     "cell_type": "code",
     "collapsed": false,
     "input": [
      "unique_seq_report('se_6i_local.clean.nr.fa', se_6i_local_uniq_seqs[0], 'local', 'line 6 infected')"
     ],
     "language": "python",
     "metadata": {},
     "outputs": [
      {
       "output_type": "stream",
       "stream": "stdout",
       "text": [
        "Total sequences from line 6 infected local assembly = 68006 sequences\n",
        "Sequence from line 6 infected local assembly = 44576.98 Kbp\n",
        "Total unique sequences from line 6 infected local assembly = 2751 sequences\n",
        "Unique sequences from line 6 infected local assembly = 446.06 (1.00%) Kbp\n"
       ]
      }
     ],
     "prompt_number": 53
    },
    {
     "cell_type": "code",
     "collapsed": false,
     "input": [
      "unique_seq_report('se_7u_local.clean.nr.fa', se_7u_local_uniq_seqs[0], 'local', 'line 7 uninfected')"
     ],
     "language": "python",
     "metadata": {},
     "outputs": [
      {
       "output_type": "stream",
       "stream": "stdout",
       "text": [
        "Total sequences from line 7 uninfected local assembly = 62502 sequences\n",
        "Sequence from line 7 uninfected local assembly = 40073.64 Kbp\n",
        "Total unique sequences from line 7 uninfected local assembly = 2140 sequences\n",
        "Unique sequences from line 7 uninfected local assembly = 399.29 (1.00%) Kbp\n"
       ]
      }
     ],
     "prompt_number": 54
    },
    {
     "cell_type": "code",
     "collapsed": false,
     "input": [
      "unique_seq_report('se_7i_local.clean.nr.fa', se_7i_local_uniq_seqs[0], 'local', 'line 7 infected')"
     ],
     "language": "python",
     "metadata": {},
     "outputs": [
      {
       "output_type": "stream",
       "stream": "stdout",
       "text": [
        "Total sequences from line 7 infected local assembly = 66446 sequences\n",
        "Sequence from line 7 infected local assembly = 41226.79 Kbp\n",
        "Total unique sequences from line 7 infected local assembly = 1652 sequences\n",
        "Unique sequences from line 7 infected local assembly = 346.99 (0.84%) Kbp\n"
       ]
      }
     ],
     "prompt_number": 55
    },
    {
     "cell_type": "markdown",
     "metadata": {},
     "source": [
      "##Homology search for unique sequences\n",
      "\n",
      "To find if a unique region from global or local assembly are part of a gene, we search for homologous sequences in mouse proteins using BLASTX. \n",
      "\n",
      "To obtain a significant hit, we only select unique regions longer than 300bp.\n",
      "\n",
      "Command for running BLAST is:\n",
      "\n",
      "    export BLASTDB=/mnt/data/data/blastdb\n",
      "    blastx -evalue 1e-20 -outfmt 5 -query input.fa -db mouse.proteins -out output.xml\n",
      "\n",
      "A list of matched sequences can be obtained from the following command."
     ]
    },
    {
     "cell_type": "code",
     "collapsed": false,
     "input": [
      "def get_long_seq(filename, min_size):\n",
      "    kept = []\n",
      "    total_length = 0\n",
      "    for record in SeqIO.parse(filename, 'fasta'):\n",
      "        if len(record) >= min_size:\n",
      "            kept.append(record)\n",
      "            total_length += len(record)\n",
      "    SeqIO.write(kept, filename + '.long', 'fasta')\n",
      "    return total_length"
     ],
     "language": "python",
     "metadata": {},
     "outputs": [],
     "prompt_number": 64
    },
    {
     "cell_type": "code",
     "collapsed": false,
     "input": [
      "se_6u_global_uniq_long_length = get_long_seq('se_6u_global.clean.nr.fa.uniq', 300)\n",
      "se_6i_global_uniq_long_length = get_long_seq('se_6i_global.clean.nr.fa.uniq', 300)\n",
      "se_7u_global_uniq_long_length = get_long_seq('se_7u_global.clean.nr.fa.uniq', 300)\n",
      "se_7i_global_uniq_long_length = get_long_seq('se_7i_global.clean.nr.fa.uniq', 300)\n",
      "se_6u_local_uniq_long_length = get_long_seq('se_6u_local.clean.nr.fa.uniq', 300)\n",
      "se_6i_local_uniq_long_length = get_long_seq('se_6i_local.clean.nr.fa.uniq', 300)\n",
      "se_7u_local_uniq_long_length = get_long_seq('se_7u_local.clean.nr.fa.uniq', 300)\n",
      "se_7i_local_uniq_long_length = get_long_seq('se_7i_local.clean.nr.fa.uniq', 300)"
     ],
     "language": "python",
     "metadata": {},
     "outputs": [],
     "prompt_number": 68
    },
    {
     "cell_type": "code",
     "collapsed": false,
     "input": [
      "from Bio.Blast import NCBIXML"
     ],
     "language": "python",
     "metadata": {},
     "outputs": [],
     "prompt_number": 56
    },
    {
     "cell_type": "code",
     "collapsed": false,
     "input": [
      "def find_match(xml_file, output_file):\n",
      "    aligned_bases = 0\n",
      "    records = NCBIXML.parse(open(xml_file))\n",
      "    op = open(output_file, 'w')\n",
      "    for record in records:\n",
      "        if record.alignments: # if matched,\n",
      "            alm = record.alignments[0]\n",
      "            hsp = alm.hsps[0]\n",
      "            aligned_bases += hsp.align_length\n",
      "            if hsp.expect < 1e-20:\n",
      "                print >> op, '%s\\t%s' % (record.query, alm.title)\n",
      "    op.close()\n",
      "    return aligned_bases"
     ],
     "language": "python",
     "metadata": {},
     "outputs": [],
     "prompt_number": 57
    },
    {
     "cell_type": "code",
     "collapsed": false,
     "input": [
      "def blast_match(aligned_bases, uniq_long_length, sample, assembly_type):\n",
      "    print 'Total long unique sequence from %s %s assembly matched with mouse proteins = %.2f (%.2f%%)' % \\\n",
      "                (sample, assembly_type, aligned_bases/1e3, float(aligned_bases)/uniq_long_length*100.0)"
     ],
     "language": "python",
     "metadata": {},
     "outputs": [],
     "prompt_number": 79
    },
    {
     "cell_type": "code",
     "collapsed": false,
     "input": [
      "local_6u_aligned_bases = find_match('se_6u_local.clean.nr.fa.uniq.long.blastx.xml', 'se_6u_local.long.uniq.blastx.out')\n",
      "local_6i_aligned_bases = find_match('se_6i_local.clean.nr.fa.uniq.long.blastx.xml', 'se_6i_local.long.uniq.blastx.out')\n",
      "local_7u_aligned_bases = find_match('se_7u_local.clean.nr.fa.uniq.long.blastx.xml', 'se_7u_local.long.uniq.blastx.out')\n",
      "local_7i_aligned_bases = find_match('se_7i_local.clean.nr.fa.uniq.long.blastx.xml', 'se_7i_local.long.uniq.blastx.out')\n",
      "global_6u_aligned_bases = find_match('se_6u_global.clean.nr.fa.uniq.long.blastx.xml', 'se_6u_global.long.uniq.blastx.out')\n",
      "global_6i_aligned_bases = find_match('se_6i_global.clean.nr.fa.uniq.long.blastx.xml', 'se_6i_global.long.uniq.blastx.out')\n",
      "global_7u_aligned_bases = find_match('se_7u_global.clean.nr.fa.uniq.long.blastx.xml', 'se_7u_global.long.uniq.blastx.out')\n",
      "global_7i_aligned_bases = find_match('se_7i_global.clean.nr.fa.uniq.long.blastx.xml', 'se_7i_global.long.uniq.blastx.out')"
     ],
     "language": "python",
     "metadata": {},
     "outputs": [],
     "prompt_number": 85
    },
    {
     "cell_type": "code",
     "collapsed": false,
     "input": [
      "blast_match(local_6u_aligned_bases, se_6u_local_uniq_long_length, 'line 6 uninfected', 'local')"
     ],
     "language": "python",
     "metadata": {},
     "outputs": [
      {
       "output_type": "stream",
       "stream": "stdout",
       "text": [
        "Total long unique sequence from line 6 uninfected local assembly matched with mouse proteins = 10.90 (10.59%)\n"
       ]
      }
     ],
     "prompt_number": 80
    },
    {
     "cell_type": "code",
     "collapsed": false,
     "input": [
      "blast_match(local_6i_aligned_bases, se_6i_local_uniq_long_length, 'line 6 infected', 'local')"
     ],
     "language": "python",
     "metadata": {},
     "outputs": [
      {
       "output_type": "stream",
       "stream": "stdout",
       "text": [
        "Total long unique sequence from line 6 infected local assembly matched with mouse proteins = 7.27 (10.68%)\n"
       ]
      }
     ],
     "prompt_number": 81
    },
    {
     "cell_type": "code",
     "collapsed": false,
     "input": [
      "blast_match(local_7u_aligned_bases, se_7u_local_uniq_long_length, 'line 7 uninfected', 'local')"
     ],
     "language": "python",
     "metadata": {},
     "outputs": [
      {
       "output_type": "stream",
       "stream": "stdout",
       "text": [
        "Total long unique sequence from line 7 uninfected local assembly matched with mouse proteins = 12.04 (10.58%)\n"
       ]
      }
     ],
     "prompt_number": 82
    },
    {
     "cell_type": "code",
     "collapsed": false,
     "input": [
      "blast_match(local_7i_aligned_bases, se_7i_local_uniq_long_length, 'line 7 infected', 'local')"
     ],
     "language": "python",
     "metadata": {},
     "outputs": [
      {
       "output_type": "stream",
       "stream": "stdout",
       "text": [
        "Total long unique sequence from line 7 infected local assembly matched with mouse proteins = 12.35 (9.04%)\n"
       ]
      }
     ],
     "prompt_number": 83
    },
    {
     "cell_type": "code",
     "collapsed": false,
     "input": [
      "blast_match(global_6u_aligned_bases, se_6u_global_uniq_long_length, 'line 6 uninfected', 'global')"
     ],
     "language": "python",
     "metadata": {},
     "outputs": [
      {
       "output_type": "stream",
       "stream": "stdout",
       "text": [
        "Total long unique sequence from line 6 uninfected global assembly matched with mouse proteins = 226.55 (19.38%)\n"
       ]
      }
     ],
     "prompt_number": 86
    },
    {
     "cell_type": "code",
     "collapsed": false,
     "input": [
      "blast_match(global_6i_aligned_bases, se_6i_global_uniq_long_length, 'line 6 infected', 'global')"
     ],
     "language": "python",
     "metadata": {},
     "outputs": [
      {
       "output_type": "stream",
       "stream": "stdout",
       "text": [
        "Total long unique sequence from line 6 infected global assembly matched with mouse proteins = 273.86 (18.43%)\n"
       ]
      }
     ],
     "prompt_number": 87
    },
    {
     "cell_type": "code",
     "collapsed": false,
     "input": [
      "blast_match(global_7u_aligned_bases, se_7u_global_uniq_long_length, 'line 7 uninfected', 'global')"
     ],
     "language": "python",
     "metadata": {},
     "outputs": [
      {
       "output_type": "stream",
       "stream": "stdout",
       "text": [
        "Total long unique sequence from line 7 uninfected global assembly matched with mouse proteins = 306.70 (18.62%)\n"
       ]
      }
     ],
     "prompt_number": 88
    },
    {
     "cell_type": "code",
     "collapsed": false,
     "input": [
      "blast_match(global_7i_aligned_bases, se_7i_global_uniq_long_length, 'line 7 infected', 'global')"
     ],
     "language": "python",
     "metadata": {},
     "outputs": [
      {
       "output_type": "stream",
       "stream": "stdout",
       "text": [
        "Total long unique sequence from line 7 infected global assembly matched with mouse proteins = 260.62 (17.31%)\n"
       ]
      }
     ],
     "prompt_number": 89
    },
    {
     "cell_type": "code",
     "collapsed": false,
     "input": [
      "total_seqs = !grep -c '>' se_6u_local.clean.nr.fa.uniq.long\n",
      "se_6u_local_uniq_long_seqs = int(total_seqs[0])\n",
      "total_matched_seqs = !wc -l se_6u_local.long.uniq.blastx.out | cut -d \" \" -f 1\n",
      "se_6u_local_uniq_long_matched_seqs = int(total_matched_seqs[0])\n",
      "print \"%.2f%% (%d/%d) of unique sequences from line6u local assembly match mouse proteins.\" % \\\n",
      "(se_6u_local_uniq_long_matched_seqs/float(se_6u_local_uniq_long_seqs) * 100, se_6u_local_uniq_long_matched_seqs, se_6u_local_uniq_long_seqs)"
     ],
     "language": "python",
     "metadata": {},
     "outputs": [
      {
       "output_type": "stream",
       "stream": "stdout",
       "text": [
        "37.50% (39/104) of unique sequences from line6u local assembly match mouse proteins.\n"
       ]
      }
     ],
     "prompt_number": 98
    },
    {
     "cell_type": "code",
     "collapsed": false,
     "input": [
      "total_seqs = !grep -c '>' se_6i_local.clean.nr.fa.uniq.long\n",
      "se_6i_local_uniq_long_seqs = int(total_seqs[0])\n",
      "total_matched_seqs = !wc -l se_6i_local.long.uniq.blastx.out | cut -d \" \" -f 1\n",
      "se_6i_local_uniq_long_matched_seqs = int(total_matched_seqs[0])\n",
      "print \"%.2f%% (%d/%d) of unique sequences from line6i local assembly match mouse proteins.\" % \\\n",
      "(se_6i_local_uniq_long_matched_seqs/float(se_6i_local_uniq_long_seqs) * 100, se_6i_local_uniq_long_matched_seqs, se_6i_local_uniq_long_seqs)"
     ],
     "language": "python",
     "metadata": {},
     "outputs": [
      {
       "output_type": "stream",
       "stream": "stdout",
       "text": [
        "38.46% (40/104) of unique sequences from line6i local assembly match mouse proteins.\n"
       ]
      }
     ],
     "prompt_number": 103
    },
    {
     "cell_type": "code",
     "collapsed": false,
     "input": [
      "total_seqs = !grep -c '>' se_7u_local.clean.nr.fa.uniq.long\n",
      "se_7u_local_uniq_long_seqs = int(total_seqs[0])\n",
      "total_matched_seqs = !wc -l se_7u_local.long.uniq.blastx.out | cut -d \" \" -f 1\n",
      "se_7u_local_uniq_long_matched_seqs = int(total_matched_seqs[0])\n",
      "print \"%.2f%% (%d/%d) of unique sequences from line7u local assembly match mouse proteins.\" % \\\n",
      "(se_7u_local_uniq_long_matched_seqs/float(se_7u_local_uniq_long_seqs) * 100, se_7u_local_uniq_long_matched_seqs, se_7u_local_uniq_long_seqs)"
     ],
     "language": "python",
     "metadata": {},
     "outputs": [
      {
       "output_type": "stream",
       "stream": "stdout",
       "text": [
        "38.24% (52/136) of unique sequences from line7u local assembly match mouse proteins.\n"
       ]
      }
     ],
     "prompt_number": 104
    },
    {
     "cell_type": "code",
     "collapsed": false,
     "input": [
      "total_seqs = !grep -c '>' se_7i_local.clean.nr.fa.uniq.long\n",
      "se_7i_local_uniq_long_seqs = int(total_seqs[0])\n",
      "total_matched_seqs = !wc -l se_7i_local.long.uniq.blastx.out | cut -d \" \" -f 1\n",
      "se_7i_local_uniq_long_matched_seqs = int(total_matched_seqs[0])\n",
      "print \"%.2f%% (%d/%d) of unique sequences from line7i local assembly match mouse proteins.\" % \\\n",
      "(se_7i_local_uniq_long_matched_seqs/float(se_7i_local_uniq_long_seqs) * 100, se_7i_local_uniq_long_matched_seqs, se_7i_local_uniq_long_seqs)"
     ],
     "language": "python",
     "metadata": {},
     "outputs": [
      {
       "output_type": "stream",
       "stream": "stdout",
       "text": [
        "32.89% (50/152) of unique sequences from line7i local assembly match mouse proteins.\n"
       ]
      }
     ],
     "prompt_number": 105
    },
    {
     "cell_type": "code",
     "collapsed": false,
     "input": [
      "total_seqs = !grep -c '>' se_6u_global.clean.nr.fa.uniq.long\n",
      "se_6u_global_uniq_long_seqs = int(total_seqs[0])\n",
      "total_matched_seqs = !wc -l se_6u_global.long.uniq.blastx.out | cut -d \" \" -f 1\n",
      "se_6u_global_uniq_long_matched_seqs = int(total_matched_seqs[0])\n",
      "print \"%.2f%% (%d/%d) of unique sequences from line6u global assembly match mouse proteins.\" % \\\n",
      "(se_6u_global_uniq_long_matched_seqs/float(se_6u_global_uniq_long_seqs) * 100, se_6u_global_uniq_long_matched_seqs, se_6u_global_uniq_long_seqs)"
     ],
     "language": "python",
     "metadata": {},
     "outputs": [
      {
       "output_type": "stream",
       "stream": "stdout",
       "text": [
        "62.01% (1322/2132) of unique sequences from line6u global assembly match mouse proteins.\n"
       ]
      }
     ],
     "prompt_number": 106
    },
    {
     "cell_type": "code",
     "collapsed": false,
     "input": [
      "total_seqs = !grep -c '>' se_6i_global.clean.nr.fa.uniq.long\n",
      "se_6i_global_uniq_long_seqs = int(total_seqs[0])\n",
      "total_matched_seqs = !wc -l se_6i_global.long.uniq.blastx.out | cut -d \" \" -f 1\n",
      "se_6i_global_uniq_long_matched_seqs = int(total_matched_seqs[0])\n",
      "print \"%.2f%% (%d/%d) of unique sequences from line6i global assembly match mouse proteins.\" % \\\n",
      "(se_6i_global_uniq_long_matched_seqs/float(se_6i_global_uniq_long_seqs) * 100, se_6i_global_uniq_long_matched_seqs, se_6i_global_uniq_long_seqs)"
     ],
     "language": "python",
     "metadata": {},
     "outputs": [
      {
       "output_type": "stream",
       "stream": "stdout",
       "text": [
        "60.58% (1514/2499) of unique sequences from line6i global assembly match mouse proteins.\n"
       ]
      }
     ],
     "prompt_number": 107
    },
    {
     "cell_type": "code",
     "collapsed": false,
     "input": [
      "total_seqs = !grep -c '>' se_7u_global.clean.nr.fa.uniq.long\n",
      "se_7u_global_uniq_long_seqs = int(total_seqs[0])\n",
      "total_matched_seqs = !wc -l se_7u_global.long.uniq.blastx.out | cut -d \" \" -f 1\n",
      "se_7u_global_uniq_long_matched_seqs = int(total_matched_seqs[0])\n",
      "print \"%.2f%% (%d/%d) of unique sequences from line7u global assembly match mouse proteins.\" % \\\n",
      "(se_7u_global_uniq_long_matched_seqs/float(se_7u_global_uniq_long_seqs) * 100, se_7u_global_uniq_long_matched_seqs, se_7u_global_uniq_long_seqs)"
     ],
     "language": "python",
     "metadata": {},
     "outputs": [
      {
       "output_type": "stream",
       "stream": "stdout",
       "text": [
        "59.25% (1560/2633) of unique sequences from line7u global assembly match mouse proteins.\n"
       ]
      }
     ],
     "prompt_number": 110
    },
    {
     "cell_type": "code",
     "collapsed": false,
     "input": [
      "total_seqs = !grep -c '>' se_7i_global.clean.nr.fa.uniq.long\n",
      "se_7i_global_uniq_long_seqs = int(total_seqs[0])\n",
      "total_matched_seqs = !wc -l se_7i_global.long.uniq.blastx.out | cut -d \" \" -f 1\n",
      "se_7i_global_uniq_long_matched_seqs = int(total_matched_seqs[0])\n",
      "print \"%.2f%% (%d/%d) of unique sequences from line7i global assembly match mouse proteins.\" % \\\n",
      "(se_7i_global_uniq_long_matched_seqs/float(se_7i_global_uniq_long_seqs) * 100, se_7i_global_uniq_long_matched_seqs, se_7i_global_uniq_long_seqs)"
     ],
     "language": "python",
     "metadata": {},
     "outputs": [
      {
       "output_type": "stream",
       "stream": "stdout",
       "text": [
        "57.70% (1390/2409) of unique sequences from line7i global assembly match mouse proteins.\n"
       ]
      }
     ],
     "prompt_number": 109
    },
    {
     "cell_type": "markdown",
     "metadata": {},
     "source": [
      "##Results from Gene models construction\n",
      "\n",
      "###Before filtering highly similar sequences\n",
      "\n",
      "Total multi-exon gene = 22593 gene(s) / 35127 isoform(s)\n",
      "\n",
      "Total single-exon gene = 7060 gene(s)\n",
      "\n",
      "###After filtering highly similar sequences"
     ]
    },
    {
     "cell_type": "markdown",
     "metadata": {},
     "source": [
      "##Sequences not mapped to chicken genome"
     ]
    },
    {
     "cell_type": "code",
     "collapsed": false,
     "input": [],
     "language": "python",
     "metadata": {},
     "outputs": []
    }
   ],
   "metadata": {}
  }
 ]
}